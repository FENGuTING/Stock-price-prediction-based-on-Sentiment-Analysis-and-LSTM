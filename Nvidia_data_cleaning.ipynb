{
 "cells": [
  {
   "cell_type": "code",
   "execution_count": 2,
   "id": "9062537f-1e94-4818-97c0-674268132941",
   "metadata": {},
   "outputs": [],
   "source": [
    "import pandas as pd\n",
    "import numpy as np"
   ]
  },
  {
   "cell_type": "code",
   "execution_count": 6,
   "id": "345cf1a1-266b-44d5-8332-ab27cc4fe093",
   "metadata": {},
   "outputs": [],
   "source": [
    "df = pd.read_csv('Nvidia-Tweets.csv',engine='python')"
   ]
  },
  {
   "cell_type": "code",
   "execution_count": 8,
   "id": "102df0da-524d-48c2-a5f3-3460b94529dc",
   "metadata": {},
   "outputs": [
    {
     "data": {
      "text/plain": [
       "(100847, 5)"
      ]
     },
     "execution_count": 8,
     "metadata": {},
     "output_type": "execute_result"
    }
   ],
   "source": [
    "df.shape"
   ]
  },
  {
   "cell_type": "code",
   "execution_count": 16,
   "id": "debf9f4a-0708-4abc-803e-8674489dad60",
   "metadata": {},
   "outputs": [
    {
     "name": "stdout",
     "output_type": "stream",
     "text": [
      "Index(['Unnamed: 0', 'Datetime', 'Tweet Id', 'Text', 'Username'], dtype='object')\n"
     ]
    }
   ],
   "source": [
    "columns = df.columns.unique()\n",
    "print(columns)"
   ]
  },
  {
   "cell_type": "code",
   "execution_count": 20,
   "id": "ce709c6a-4e9b-43ff-9a79-9f829258a930",
   "metadata": {},
   "outputs": [
    {
     "data": {
      "text/plain": [
       "98266"
      ]
     },
     "execution_count": 20,
     "metadata": {},
     "output_type": "execute_result"
    }
   ],
   "source": [
    "dates = df['Datetime'].unique()\n",
    "len(dates)"
   ]
  },
  {
   "cell_type": "code",
   "execution_count": 22,
   "id": "fe770bb2-ede1-4dbf-b902-2574a4052da0",
   "metadata": {},
   "outputs": [
    {
     "data": {
      "text/html": [
       "<div>\n",
       "<style scoped>\n",
       "    .dataframe tbody tr th:only-of-type {\n",
       "        vertical-align: middle;\n",
       "    }\n",
       "\n",
       "    .dataframe tbody tr th {\n",
       "        vertical-align: top;\n",
       "    }\n",
       "\n",
       "    .dataframe thead th {\n",
       "        text-align: right;\n",
       "    }\n",
       "</style>\n",
       "<table border=\"1\" class=\"dataframe\">\n",
       "  <thead>\n",
       "    <tr style=\"text-align: right;\">\n",
       "      <th></th>\n",
       "      <th>Unnamed: 0</th>\n",
       "      <th>Datetime</th>\n",
       "      <th>Tweet Id</th>\n",
       "      <th>Text</th>\n",
       "      <th>Username</th>\n",
       "    </tr>\n",
       "  </thead>\n",
       "  <tbody>\n",
       "    <tr>\n",
       "      <th>0</th>\n",
       "      <td>0</td>\n",
       "      <td>2023-02-06 10:07:17+00:00</td>\n",
       "      <td>1.622537e+18</td>\n",
       "      <td>$nvda  Top analyst price target for next week ...</td>\n",
       "      <td>RyderJohnston6</td>\n",
       "    </tr>\n",
       "    <tr>\n",
       "      <th>1</th>\n",
       "      <td>1</td>\n",
       "      <td>2023-02-06 10:06:30+00:00</td>\n",
       "      <td>1.622537e+18</td>\n",
       "      <td>$nvda Top analyst price target for this week.🔗...</td>\n",
       "      <td>k_mebane</td>\n",
       "    </tr>\n",
       "    <tr>\n",
       "      <th>2</th>\n",
       "      <td>2</td>\n",
       "      <td>2023-02-06 10:06:08+00:00</td>\n",
       "      <td>1.622537e+18</td>\n",
       "      <td>$nvda Top analyst price target for next week.....</td>\n",
       "      <td>RonaldBevan2</td>\n",
       "    </tr>\n",
       "    <tr>\n",
       "      <th>3</th>\n",
       "      <td>3</td>\n",
       "      <td>2023-02-06 10:05:43+00:00</td>\n",
       "      <td>1.622537e+18</td>\n",
       "      <td>$NVDA Top analyst target price for next week🚀 ...</td>\n",
       "      <td>Eva077777</td>\n",
       "    </tr>\n",
       "    <tr>\n",
       "      <th>4</th>\n",
       "      <td>4</td>\n",
       "      <td>2023-02-06 10:03:49+00:00</td>\n",
       "      <td>1.622537e+18</td>\n",
       "      <td>$rsls rebound 🚨🚨🚀🚀🚀\\n————\\n\\n$EDSA\\n$KODK\\n$DO...</td>\n",
       "      <td>MrBlackTrading</td>\n",
       "    </tr>\n",
       "  </tbody>\n",
       "</table>\n",
       "</div>"
      ],
      "text/plain": [
       "  Unnamed: 0                   Datetime      Tweet Id  \\\n",
       "0          0  2023-02-06 10:07:17+00:00  1.622537e+18   \n",
       "1          1  2023-02-06 10:06:30+00:00  1.622537e+18   \n",
       "2          2  2023-02-06 10:06:08+00:00  1.622537e+18   \n",
       "3          3  2023-02-06 10:05:43+00:00  1.622537e+18   \n",
       "4          4  2023-02-06 10:03:49+00:00  1.622537e+18   \n",
       "\n",
       "                                                Text        Username  \n",
       "0  $nvda  Top analyst price target for next week ...  RyderJohnston6  \n",
       "1  $nvda Top analyst price target for this week.🔗...        k_mebane  \n",
       "2  $nvda Top analyst price target for next week.....    RonaldBevan2  \n",
       "3  $NVDA Top analyst target price for next week🚀 ...       Eva077777  \n",
       "4  $rsls rebound 🚨🚨🚀🚀🚀\\n————\\n\\n$EDSA\\n$KODK\\n$DO...  MrBlackTrading  "
      ]
     },
     "execution_count": 22,
     "metadata": {},
     "output_type": "execute_result"
    }
   ],
   "source": [
    "df.head()"
   ]
  },
  {
   "cell_type": "code",
   "execution_count": 24,
   "id": "b54829aa-2af1-4b23-96af-f655987106cf",
   "metadata": {},
   "outputs": [
    {
     "data": {
      "text/html": [
       "<div>\n",
       "<style scoped>\n",
       "    .dataframe tbody tr th:only-of-type {\n",
       "        vertical-align: middle;\n",
       "    }\n",
       "\n",
       "    .dataframe tbody tr th {\n",
       "        vertical-align: top;\n",
       "    }\n",
       "\n",
       "    .dataframe thead th {\n",
       "        text-align: right;\n",
       "    }\n",
       "</style>\n",
       "<table border=\"1\" class=\"dataframe\">\n",
       "  <thead>\n",
       "    <tr style=\"text-align: right;\">\n",
       "      <th></th>\n",
       "      <th>Unnamed: 0</th>\n",
       "      <th>Datetime</th>\n",
       "      <th>Tweet Id</th>\n",
       "      <th>Text</th>\n",
       "      <th>Username</th>\n",
       "    </tr>\n",
       "  </thead>\n",
       "  <tbody>\n",
       "    <tr>\n",
       "      <th>0</th>\n",
       "      <td>0</td>\n",
       "      <td>2023-02-06</td>\n",
       "      <td>1.622537e+18</td>\n",
       "      <td>$nvda  Top analyst price target for next week ...</td>\n",
       "      <td>RyderJohnston6</td>\n",
       "    </tr>\n",
       "    <tr>\n",
       "      <th>1</th>\n",
       "      <td>1</td>\n",
       "      <td>2023-02-06</td>\n",
       "      <td>1.622537e+18</td>\n",
       "      <td>$nvda Top analyst price target for this week.🔗...</td>\n",
       "      <td>k_mebane</td>\n",
       "    </tr>\n",
       "    <tr>\n",
       "      <th>2</th>\n",
       "      <td>2</td>\n",
       "      <td>2023-02-06</td>\n",
       "      <td>1.622537e+18</td>\n",
       "      <td>$nvda Top analyst price target for next week.....</td>\n",
       "      <td>RonaldBevan2</td>\n",
       "    </tr>\n",
       "    <tr>\n",
       "      <th>3</th>\n",
       "      <td>3</td>\n",
       "      <td>2023-02-06</td>\n",
       "      <td>1.622537e+18</td>\n",
       "      <td>$NVDA Top analyst target price for next week🚀 ...</td>\n",
       "      <td>Eva077777</td>\n",
       "    </tr>\n",
       "    <tr>\n",
       "      <th>4</th>\n",
       "      <td>4</td>\n",
       "      <td>2023-02-06</td>\n",
       "      <td>1.622537e+18</td>\n",
       "      <td>$rsls rebound 🚨🚨🚀🚀🚀\\n————\\n\\n$EDSA\\n$KODK\\n$DO...</td>\n",
       "      <td>MrBlackTrading</td>\n",
       "    </tr>\n",
       "  </tbody>\n",
       "</table>\n",
       "</div>"
      ],
      "text/plain": [
       "  Unnamed: 0    Datetime      Tweet Id  \\\n",
       "0          0  2023-02-06  1.622537e+18   \n",
       "1          1  2023-02-06  1.622537e+18   \n",
       "2          2  2023-02-06  1.622537e+18   \n",
       "3          3  2023-02-06  1.622537e+18   \n",
       "4          4  2023-02-06  1.622537e+18   \n",
       "\n",
       "                                                Text        Username  \n",
       "0  $nvda  Top analyst price target for next week ...  RyderJohnston6  \n",
       "1  $nvda Top analyst price target for this week.🔗...        k_mebane  \n",
       "2  $nvda Top analyst price target for next week.....    RonaldBevan2  \n",
       "3  $NVDA Top analyst target price for next week🚀 ...       Eva077777  \n",
       "4  $rsls rebound 🚨🚨🚀🚀🚀\\n————\\n\\n$EDSA\\n$KODK\\n$DO...  MrBlackTrading  "
      ]
     },
     "execution_count": 24,
     "metadata": {},
     "output_type": "execute_result"
    }
   ],
   "source": [
    "df['Datetime']=pd.to_datetime(df['Datetime'],errors='coerce').dt.date\n",
    "df.head()"
   ]
  },
  {
   "cell_type": "code",
   "execution_count": 30,
   "id": "4d92e7a6-30c3-41d7-ac2d-0732bf3a882a",
   "metadata": {},
   "outputs": [
    {
     "data": {
      "text/plain": [
       "79"
      ]
     },
     "execution_count": 30,
     "metadata": {},
     "output_type": "execute_result"
    }
   ],
   "source": [
    "dates = df['Datetime'].unique()\n",
    "\n",
    "len(dates)"
   ]
  },
  {
   "cell_type": "code",
   "execution_count": 32,
   "id": "13e09c02-512a-40ff-898d-a7f4131ca4ea",
   "metadata": {},
   "outputs": [
    {
     "data": {
      "text/plain": [
       "array([datetime.date(2023, 2, 6), NaT, datetime.date(2023, 2, 5),\n",
       "       datetime.date(2023, 2, 4), datetime.date(2023, 2, 3),\n",
       "       datetime.date(2023, 2, 2), datetime.date(2023, 2, 1),\n",
       "       datetime.date(2023, 1, 31), datetime.date(2023, 1, 30),\n",
       "       datetime.date(2023, 1, 29), datetime.date(2023, 1, 28),\n",
       "       datetime.date(2023, 1, 27), datetime.date(2023, 1, 26),\n",
       "       datetime.date(2023, 1, 25), datetime.date(2023, 1, 24),\n",
       "       datetime.date(2023, 1, 23), datetime.date(2023, 1, 22),\n",
       "       datetime.date(2023, 1, 21), datetime.date(2023, 1, 20),\n",
       "       datetime.date(2023, 1, 19), datetime.date(2023, 1, 18),\n",
       "       datetime.date(2023, 1, 17), datetime.date(2023, 1, 16),\n",
       "       datetime.date(2023, 1, 15), datetime.date(2023, 1, 14),\n",
       "       datetime.date(2023, 1, 13), datetime.date(2023, 1, 12),\n",
       "       datetime.date(2023, 1, 11), datetime.date(2023, 1, 10),\n",
       "       datetime.date(2023, 1, 9), datetime.date(2023, 1, 8),\n",
       "       datetime.date(2023, 1, 7), datetime.date(2023, 1, 6),\n",
       "       datetime.date(2023, 1, 5), datetime.date(2023, 1, 4),\n",
       "       datetime.date(2023, 1, 3), datetime.date(2023, 1, 2),\n",
       "       datetime.date(2023, 1, 1), datetime.date(2022, 12, 31),\n",
       "       datetime.date(2022, 12, 30), datetime.date(2022, 12, 29),\n",
       "       datetime.date(2022, 12, 28), datetime.date(2022, 12, 27),\n",
       "       datetime.date(2022, 12, 26), datetime.date(2022, 12, 25),\n",
       "       datetime.date(2022, 12, 24), datetime.date(2022, 12, 23),\n",
       "       datetime.date(2022, 12, 22), datetime.date(2022, 12, 21),\n",
       "       datetime.date(2022, 12, 20), datetime.date(2022, 12, 19),\n",
       "       datetime.date(2022, 12, 18), datetime.date(2022, 12, 17),\n",
       "       datetime.date(2022, 12, 16), datetime.date(2022, 12, 15),\n",
       "       datetime.date(2022, 12, 14), datetime.date(2022, 12, 13),\n",
       "       datetime.date(2022, 12, 12), datetime.date(2022, 12, 11),\n",
       "       datetime.date(2022, 12, 10), datetime.date(2022, 12, 9),\n",
       "       datetime.date(2022, 12, 8), datetime.date(2022, 12, 7),\n",
       "       datetime.date(2022, 12, 6), datetime.date(2022, 12, 5),\n",
       "       datetime.date(2022, 12, 4), datetime.date(2022, 12, 3),\n",
       "       datetime.date(2022, 12, 2), datetime.date(2022, 12, 1),\n",
       "       datetime.date(2022, 11, 30), datetime.date(2022, 11, 29),\n",
       "       datetime.date(2022, 11, 28), datetime.date(2022, 11, 27),\n",
       "       datetime.date(2022, 11, 26), datetime.date(2022, 11, 25),\n",
       "       datetime.date(2022, 11, 24), datetime.date(2022, 11, 23),\n",
       "       datetime.date(2022, 11, 22), datetime.date(2022, 11, 21)],\n",
       "      dtype=object)"
      ]
     },
     "execution_count": 32,
     "metadata": {},
     "output_type": "execute_result"
    }
   ],
   "source": [
    "dates"
   ]
  },
  {
   "cell_type": "code",
   "execution_count": 34,
   "id": "79708770-ca6b-42ed-9a01-6360efc1eaec",
   "metadata": {},
   "outputs": [
    {
     "name": "stderr",
     "output_type": "stream",
     "text": [
      "/var/folders/y9/rm6ywzws5czgbzjyb7d2cny00000gn/T/ipykernel_35171/1875064763.py:7: DeprecationWarning: DataFrameGroupBy.apply operated on the grouping columns. This behavior is deprecated, and in a future version of pandas the grouping columns will be excluded from the operation. Either pass `include_groups=False` to exclude the groupings or explicitly select the grouping columns after groupby to silence this warning.\n",
      "  limited_data=df.groupby('Datetime',group_keys=False).apply(filter_group)\n"
     ]
    },
    {
     "data": {
      "text/plain": [
       "(31122, 5)"
      ]
     },
     "execution_count": 34,
     "metadata": {},
     "output_type": "execute_result"
    }
   ],
   "source": [
    "def filter_group(group):\n",
    "    n=len(group)\n",
    "    if n>=300:\n",
    "        return group.sample(n=min(n,400),random_state=42)\n",
    "    else:\n",
    "        return pd.DataFrame()\n",
    "limited_data=df.groupby('Datetime',group_keys=False).apply(filter_group)\n",
    "limited_data.shape\n",
    "            "
   ]
  },
  {
   "cell_type": "code",
   "execution_count": 38,
   "id": "fd112184-e206-46bc-9581-1db9083c1794",
   "metadata": {},
   "outputs": [
    {
     "data": {
      "text/plain": [
       "78"
      ]
     },
     "execution_count": 38,
     "metadata": {},
     "output_type": "execute_result"
    }
   ],
   "source": [
    "date=limited_data['Datetime'].unique()\n",
    "len(date)"
   ]
  },
  {
   "cell_type": "code",
   "execution_count": 40,
   "id": "99061c55-a9f2-432a-82d9-ee12f5de214f",
   "metadata": {},
   "outputs": [
    {
     "data": {
      "text/plain": [
       "array([datetime.date(2022, 11, 21), datetime.date(2022, 11, 22),\n",
       "       datetime.date(2022, 11, 23), datetime.date(2022, 11, 24),\n",
       "       datetime.date(2022, 11, 25), datetime.date(2022, 11, 26),\n",
       "       datetime.date(2022, 11, 27), datetime.date(2022, 11, 28),\n",
       "       datetime.date(2022, 11, 29), datetime.date(2022, 11, 30),\n",
       "       datetime.date(2022, 12, 1), datetime.date(2022, 12, 2),\n",
       "       datetime.date(2022, 12, 3), datetime.date(2022, 12, 4),\n",
       "       datetime.date(2022, 12, 5), datetime.date(2022, 12, 6),\n",
       "       datetime.date(2022, 12, 7), datetime.date(2022, 12, 8),\n",
       "       datetime.date(2022, 12, 9), datetime.date(2022, 12, 10),\n",
       "       datetime.date(2022, 12, 11), datetime.date(2022, 12, 12),\n",
       "       datetime.date(2022, 12, 13), datetime.date(2022, 12, 14),\n",
       "       datetime.date(2022, 12, 15), datetime.date(2022, 12, 16),\n",
       "       datetime.date(2022, 12, 17), datetime.date(2022, 12, 18),\n",
       "       datetime.date(2022, 12, 19), datetime.date(2022, 12, 20),\n",
       "       datetime.date(2022, 12, 21), datetime.date(2022, 12, 22),\n",
       "       datetime.date(2022, 12, 23), datetime.date(2022, 12, 24),\n",
       "       datetime.date(2022, 12, 25), datetime.date(2022, 12, 26),\n",
       "       datetime.date(2022, 12, 27), datetime.date(2022, 12, 28),\n",
       "       datetime.date(2022, 12, 29), datetime.date(2022, 12, 30),\n",
       "       datetime.date(2022, 12, 31), datetime.date(2023, 1, 1),\n",
       "       datetime.date(2023, 1, 2), datetime.date(2023, 1, 3),\n",
       "       datetime.date(2023, 1, 4), datetime.date(2023, 1, 5),\n",
       "       datetime.date(2023, 1, 6), datetime.date(2023, 1, 7),\n",
       "       datetime.date(2023, 1, 8), datetime.date(2023, 1, 9),\n",
       "       datetime.date(2023, 1, 10), datetime.date(2023, 1, 11),\n",
       "       datetime.date(2023, 1, 12), datetime.date(2023, 1, 13),\n",
       "       datetime.date(2023, 1, 14), datetime.date(2023, 1, 15),\n",
       "       datetime.date(2023, 1, 16), datetime.date(2023, 1, 17),\n",
       "       datetime.date(2023, 1, 18), datetime.date(2023, 1, 19),\n",
       "       datetime.date(2023, 1, 20), datetime.date(2023, 1, 21),\n",
       "       datetime.date(2023, 1, 22), datetime.date(2023, 1, 23),\n",
       "       datetime.date(2023, 1, 24), datetime.date(2023, 1, 25),\n",
       "       datetime.date(2023, 1, 26), datetime.date(2023, 1, 27),\n",
       "       datetime.date(2023, 1, 28), datetime.date(2023, 1, 29),\n",
       "       datetime.date(2023, 1, 30), datetime.date(2023, 1, 31),\n",
       "       datetime.date(2023, 2, 1), datetime.date(2023, 2, 2),\n",
       "       datetime.date(2023, 2, 3), datetime.date(2023, 2, 4),\n",
       "       datetime.date(2023, 2, 5), datetime.date(2023, 2, 6)], dtype=object)"
      ]
     },
     "execution_count": 40,
     "metadata": {},
     "output_type": "execute_result"
    }
   ],
   "source": [
    "date"
   ]
  },
  {
   "cell_type": "code",
   "execution_count": 42,
   "id": "62cf64d4-885a-43f9-a0bc-ded8b3343798",
   "metadata": {},
   "outputs": [
    {
     "data": {
      "text/html": [
       "<div>\n",
       "<style scoped>\n",
       "    .dataframe tbody tr th:only-of-type {\n",
       "        vertical-align: middle;\n",
       "    }\n",
       "\n",
       "    .dataframe tbody tr th {\n",
       "        vertical-align: top;\n",
       "    }\n",
       "\n",
       "    .dataframe thead th {\n",
       "        text-align: right;\n",
       "    }\n",
       "</style>\n",
       "<table border=\"1\" class=\"dataframe\">\n",
       "  <thead>\n",
       "    <tr style=\"text-align: right;\">\n",
       "      <th></th>\n",
       "      <th>Unnamed: 0</th>\n",
       "      <th>Datetime</th>\n",
       "      <th>Tweet Id</th>\n",
       "      <th>Text</th>\n",
       "      <th>Username</th>\n",
       "    </tr>\n",
       "  </thead>\n",
       "  <tbody>\n",
       "    <tr>\n",
       "      <th>100507</th>\n",
       "      <td>99665</td>\n",
       "      <td>2022-11-21</td>\n",
       "      <td>1.594759e+18</td>\n",
       "      <td>Trending: Semiconductor\\n\\n$NVDA -0.60 %\\n$INT...</td>\n",
       "      <td>FrenzyCapital</td>\n",
       "    </tr>\n",
       "    <tr>\n",
       "      <th>100761</th>\n",
       "      <td>99917</td>\n",
       "      <td>2022-11-21</td>\n",
       "      <td>1.594714e+18</td>\n",
       "      <td>$NVDA - Above 263 - Trade Idea 💡 -  April 8 27...</td>\n",
       "      <td>anita37992698</td>\n",
       "    </tr>\n",
       "    <tr>\n",
       "      <th>100695</th>\n",
       "      <td>99851</td>\n",
       "      <td>2022-11-21</td>\n",
       "      <td>1.594727e+18</td>\n",
       "      <td>$NVDA some red to green strength while Semis a...</td>\n",
       "      <td>OptionsHawk</td>\n",
       "    </tr>\n",
       "    <tr>\n",
       "      <th>100542</th>\n",
       "      <td>99700</td>\n",
       "      <td>2022-11-21</td>\n",
       "      <td>1.594753e+18</td>\n",
       "      <td>The POWER of DCA (Dollar Cost https://t.co/TKF...</td>\n",
       "      <td>SusanSouth13</td>\n",
       "    </tr>\n",
       "    <tr>\n",
       "      <th>100445</th>\n",
       "      <td>99603</td>\n",
       "      <td>2022-11-21</td>\n",
       "      <td>1.594766e+18</td>\n",
       "      <td>🔥Most active Trading Group 💯 \\nhttps://t.co/Mm...</td>\n",
       "      <td>skitontop1</td>\n",
       "    </tr>\n",
       "  </tbody>\n",
       "</table>\n",
       "</div>"
      ],
      "text/plain": [
       "       Unnamed: 0    Datetime      Tweet Id  \\\n",
       "100507      99665  2022-11-21  1.594759e+18   \n",
       "100761      99917  2022-11-21  1.594714e+18   \n",
       "100695      99851  2022-11-21  1.594727e+18   \n",
       "100542      99700  2022-11-21  1.594753e+18   \n",
       "100445      99603  2022-11-21  1.594766e+18   \n",
       "\n",
       "                                                     Text       Username  \n",
       "100507  Trending: Semiconductor\\n\\n$NVDA -0.60 %\\n$INT...  FrenzyCapital  \n",
       "100761  $NVDA - Above 263 - Trade Idea 💡 -  April 8 27...  anita37992698  \n",
       "100695  $NVDA some red to green strength while Semis a...    OptionsHawk  \n",
       "100542  The POWER of DCA (Dollar Cost https://t.co/TKF...   SusanSouth13  \n",
       "100445  🔥Most active Trading Group 💯 \\nhttps://t.co/Mm...     skitontop1  "
      ]
     },
     "execution_count": 42,
     "metadata": {},
     "output_type": "execute_result"
    }
   ],
   "source": [
    "limited_data.head()"
   ]
  },
  {
   "cell_type": "code",
   "execution_count": 44,
   "id": "77acd1b4-e7b9-414f-a923-244777341f1c",
   "metadata": {},
   "outputs": [
    {
     "data": {
      "text/html": [
       "<div>\n",
       "<style scoped>\n",
       "    .dataframe tbody tr th:only-of-type {\n",
       "        vertical-align: middle;\n",
       "    }\n",
       "\n",
       "    .dataframe tbody tr th {\n",
       "        vertical-align: top;\n",
       "    }\n",
       "\n",
       "    .dataframe thead th {\n",
       "        text-align: right;\n",
       "    }\n",
       "</style>\n",
       "<table border=\"1\" class=\"dataframe\">\n",
       "  <thead>\n",
       "    <tr style=\"text-align: right;\">\n",
       "      <th></th>\n",
       "      <th>Unnamed: 0</th>\n",
       "      <th>Datetime</th>\n",
       "      <th>Tweet Id</th>\n",
       "      <th>Text</th>\n",
       "      <th>Username</th>\n",
       "    </tr>\n",
       "  </thead>\n",
       "  <tbody>\n",
       "    <tr>\n",
       "      <th>192</th>\n",
       "      <td>188</td>\n",
       "      <td>2023-02-06</td>\n",
       "      <td>1.622437e+18</td>\n",
       "      <td>@DBookTrading Oh he would be very disappointed...</td>\n",
       "      <td>KeanuRiches_</td>\n",
       "    </tr>\n",
       "    <tr>\n",
       "      <th>73</th>\n",
       "      <td>71</td>\n",
       "      <td>2023-02-06</td>\n",
       "      <td>1.622483e+18</td>\n",
       "      <td>Success Rate - 89.47%\\n\\n$SPX $AMZN $NFLX $GOO...</td>\n",
       "      <td>TRADEORE_</td>\n",
       "    </tr>\n",
       "    <tr>\n",
       "      <th>110</th>\n",
       "      <td>106</td>\n",
       "      <td>2023-02-06</td>\n",
       "      <td>1.622467e+18</td>\n",
       "      <td>#NVIDIACorp $NVDA 5 Minute Chart\\n#SuperTrend ...</td>\n",
       "      <td>AbhipraGroup</td>\n",
       "    </tr>\n",
       "    <tr>\n",
       "      <th>274</th>\n",
       "      <td>270</td>\n",
       "      <td>2023-02-06</td>\n",
       "      <td>1.622410e+18</td>\n",
       "      <td>Best performing large cap stocks so far in 202...</td>\n",
       "      <td>marketsday</td>\n",
       "    </tr>\n",
       "    <tr>\n",
       "      <th>106</th>\n",
       "      <td>102</td>\n",
       "      <td>2023-02-06</td>\n",
       "      <td>1.622468e+18</td>\n",
       "      <td>1000% almost half a mile here. You in our disc...</td>\n",
       "      <td>seeashon</td>\n",
       "    </tr>\n",
       "  </tbody>\n",
       "</table>\n",
       "</div>"
      ],
      "text/plain": [
       "    Unnamed: 0    Datetime      Tweet Id  \\\n",
       "192        188  2023-02-06  1.622437e+18   \n",
       "73          71  2023-02-06  1.622483e+18   \n",
       "110        106  2023-02-06  1.622467e+18   \n",
       "274        270  2023-02-06  1.622410e+18   \n",
       "106        102  2023-02-06  1.622468e+18   \n",
       "\n",
       "                                                  Text      Username  \n",
       "192  @DBookTrading Oh he would be very disappointed...  KeanuRiches_  \n",
       "73   Success Rate - 89.47%\\n\\n$SPX $AMZN $NFLX $GOO...     TRADEORE_  \n",
       "110  #NVIDIACorp $NVDA 5 Minute Chart\\n#SuperTrend ...  AbhipraGroup  \n",
       "274  Best performing large cap stocks so far in 202...    marketsday  \n",
       "106  1000% almost half a mile here. You in our disc...      seeashon  "
      ]
     },
     "execution_count": 44,
     "metadata": {},
     "output_type": "execute_result"
    }
   ],
   "source": [
    "limited_data.tail()"
   ]
  },
  {
   "cell_type": "code",
   "execution_count": 46,
   "id": "4878fccc-6bb8-4b2b-a616-fc94d476b179",
   "metadata": {},
   "outputs": [],
   "source": [
    "output_file_name='Processed_Nvidia_Tweets.csv'\n",
    "limited_data.to_csv(output_file_name,index=False)"
   ]
  }
 ],
 "metadata": {
  "kernelspec": {
   "display_name": "Python 3 (ipykernel)",
   "language": "python",
   "name": "python3"
  },
  "language_info": {
   "codemirror_mode": {
    "name": "ipython",
    "version": 3
   },
   "file_extension": ".py",
   "mimetype": "text/x-python",
   "name": "python",
   "nbconvert_exporter": "python",
   "pygments_lexer": "ipython3",
   "version": "3.12.4"
  }
 },
 "nbformat": 4,
 "nbformat_minor": 5
}
